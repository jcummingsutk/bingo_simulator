{
 "cells": [
  {
   "cell_type": "code",
   "execution_count": 1,
   "metadata": {},
   "outputs": [],
   "source": [
    "%load_ext autoreload\n",
    "%autoreload 2"
   ]
  },
  {
   "cell_type": "markdown",
   "metadata": {},
   "source": [
    "# Description"
   ]
  },
  {
   "cell_type": "markdown",
   "metadata": {},
   "source": [
    "Problem statement:\n",
    "\n",
    "A game of bingo is played on a 5x5 bingo card. The card is populated randomly with 25 values in the range 1-75 selected without replacement. Next, 30 numbered balls are drawn in the range 1-75 without replacement. A card position with number matching a numbered ball is called daubed.\n",
    "\n",
    "A bingo pattern is a collection of bingo card spots. A pattern is hit if, after the 30 balls are drawn, the bingo card is daubed with at least the spots contained on the pattern."
   ]
  },
  {
   "cell_type": "markdown",
   "metadata": {},
   "source": [
    "Here are a couple patterns we will consider: the Postage Stamp and 4 Corners.\n",
    "![Bingo Card](images/bingo.png)"
   ]
  },
  {
   "cell_type": "markdown",
   "metadata": {},
   "source": [
    "# Problem 1"
   ]
  },
  {
   "cell_type": "markdown",
   "metadata": {},
   "source": [
    "Since both patterns have 4 daubs, hitting either pattern in 30 balls drawn\n",
    "has the same probability. What is this probability? Write a monte-carlo simulation for this problem."
   ]
  },
  {
   "cell_type": "markdown",
   "metadata": {},
   "source": [
    "## Monte Carlo Simulation:"
   ]
  },
  {
   "cell_type": "markdown",
   "metadata": {},
   "source": [
    "We set up some imports of libraries that I wrote, along with some parameters for the problem."
   ]
  },
  {
   "cell_type": "code",
   "execution_count": 2,
   "metadata": {},
   "outputs": [],
   "source": [
    "from bingo_simulator.bingo_card_generator import generate_bingo_card\n",
    "from bingo_simulator.random_number_generator import SampleWithoutReplacement\n",
    "from bingo_simulator.bingo_card import BingoCard\n",
    "import numpy as np\n",
    "from bingo_simulator.bingo_game import BingoGame\n",
    "from bingo_simulator.bingo_patterns import create_postage_pattern\n",
    "\n",
    "min_value = 1\n",
    "max_value = 75\n",
    "num_rows = 5\n",
    "num_cols = 5\n",
    "num_to_draw = 30\n",
    "num_simulations = 100000\n",
    "\n",
    "sampling_list = list(np.arange(min_value, max_value + 1))\n",
    "number_generator = SampleWithoutReplacement(sampling_list)\n",
    "\n"
   ]
  },
  {
   "cell_type": "markdown",
   "metadata": {},
   "source": [
    "We generate 100000 5x5 bingo cards"
   ]
  },
  {
   "cell_type": "code",
   "execution_count": 3,
   "metadata": {},
   "outputs": [],
   "source": [
    "bingo_cards: list[BingoCard] = [\n",
    "    generate_bingo_card(\n",
    "        nrows=num_rows,\n",
    "        ncols=num_cols,\n",
    "        random_number_generator=number_generator,\n",
    "    )\n",
    "    for _ in range(num_simulations)\n",
    "]"
   ]
  },
  {
   "cell_type": "markdown",
   "metadata": {},
   "source": [
    "We generate 100000 lists of randomly drawn values of size 30"
   ]
  },
  {
   "cell_type": "code",
   "execution_count": 4,
   "metadata": {},
   "outputs": [],
   "source": [
    "def draw_numbers(number_generator: SampleWithoutReplacement, num_to_draw: int)->list[int]:\n",
    "    return_list = [number_generator.generate() for _ in range(num_to_draw)]\n",
    "    number_generator.reset()\n",
    "    return return_list\n"
   ]
  },
  {
   "cell_type": "code",
   "execution_count": 5,
   "metadata": {},
   "outputs": [],
   "source": [
    "sampling_list = list(np.arange(min_value, max_value + 1))\n",
    "number_generator = SampleWithoutReplacement(sampling_list)\n",
    "drawn_values_list: list[list[int]] = [draw_numbers(number_generator, num_to_draw) for _ in range(num_simulations)]"
   ]
  },
  {
   "cell_type": "markdown",
   "metadata": {},
   "source": [
    "The bingo pattern is generated"
   ]
  },
  {
   "cell_type": "code",
   "execution_count": 6,
   "metadata": {},
   "outputs": [],
   "source": [
    "bingo_pattern = create_postage_pattern(bingo_cards[0])"
   ]
  },
  {
   "cell_type": "markdown",
   "metadata": {},
   "source": [
    "We assemble all the bingo games "
   ]
  },
  {
   "cell_type": "code",
   "execution_count": 7,
   "metadata": {},
   "outputs": [],
   "source": [
    "bingo_games: list[BingoGame] = [\n",
    "    BingoGame(card, bingo_pattern, drawn_values)\n",
    "    for card, drawn_values in zip(bingo_cards, drawn_values_list)\n",
    "]"
   ]
  },
  {
   "cell_type": "markdown",
   "metadata": {},
   "source": [
    "We count the winners and divide by the total amount of bingo games"
   ]
  },
  {
   "cell_type": "code",
   "execution_count": 8,
   "metadata": {},
   "outputs": [
    {
     "name": "stdout",
     "output_type": "stream",
     "text": [
      "2.23% of the bingo games were won\n"
     ]
    }
   ],
   "source": [
    "successes = [bingo_game.check_winner() for bingo_game in bingo_games]\n",
    "print(f\"{np.sum(successes)/len(bingo_games)*100:.2f}% of the bingo games were won\")"
   ]
  },
  {
   "cell_type": "markdown",
   "metadata": {},
   "source": [
    "From this, we would expect that the mathematical analysis will show us that about 2% of the games will be won."
   ]
  },
  {
   "cell_type": "markdown",
   "metadata": {},
   "source": [
    "## Mathematics"
   ]
  },
  {
   "cell_type": "markdown",
   "metadata": {},
   "source": [
    "Since each outcome is equally likely, one can simply count the ways that there are successes and divide that by the total number of outcomes. The total number of ways to select 30 numbers from a collection of 75 distinct numbers would be ${75 \\choose 30}$. To count the successes, simply fix any of the four in the thirty selected to be the successes, then count the number of ways to select the remaining. There are 71 numbers remaining, and we will select 26 of them. Thus, the total number of successes is ${71 \\choose 26}$. Therefore the probability is\n",
    "\n",
    "$$ \\begin{align*} \\frac{{71 \\choose 26}}{{75 \\choose 30}} &= \\frac{71!}{45!26!}\\frac{30!45!}{75!} \\\\ &= \\frac{30!}{26!}\\frac{71!}{75!} \\\\ &= \\frac{(30)(29)(28)(27)}{(75)(74)(73)(72)} \\approx 0.02255  \\end{align*}$$"
   ]
  },
  {
   "cell_type": "markdown",
   "metadata": {},
   "source": [
    "So the chance to hit is about 2.255 percent, as suggessted by the simulation."
   ]
  },
  {
   "cell_type": "markdown",
   "metadata": {},
   "source": [
    "# Problem 2"
   ]
  },
  {
   "cell_type": "markdown",
   "metadata": {},
   "source": [
    "What is the probability of hitting the 4 corners pattern given the postage stamp pattern is not hit in 30 balls drawn? \n",
    "\n",
    "Write a Monte Carlo simulation to estimate this quantity, then analytically provide the exact probability."
   ]
  },
  {
   "cell_type": "markdown",
   "metadata": {},
   "source": [
    "## Monte Carlo Simulation"
   ]
  },
  {
   "cell_type": "markdown",
   "metadata": {},
   "source": [
    "Some initial configuration, very similar to the previous problem"
   ]
  },
  {
   "cell_type": "code",
   "execution_count": 21,
   "metadata": {},
   "outputs": [],
   "source": [
    "from bingo_simulator.bingo_card_generator import generate_bingo_card\n",
    "from bingo_simulator.random_number_generator import SampleWithoutReplacement\n",
    "from bingo_simulator.bingo_card import BingoCard\n",
    "import numpy as np\n",
    "from bingo_simulator.bingo_game import BingoGame\n",
    "from bingo_simulator.bingo_patterns import (\n",
    "    create_postage_pattern,\n",
    "    create_corners_pattern,\n",
    ")\n",
    "from dataclasses import dataclass\n",
    "\n",
    "min_value = 1\n",
    "max_value = 75\n",
    "num_rows = 5\n",
    "num_cols = 5\n",
    "num_to_draw = 30\n",
    "num_simulations = 100000\n",
    "\n",
    "sampling_list = list(np.arange(min_value, max_value + 1))\n",
    "number_generator = SampleWithoutReplacement(sampling_list)"
   ]
  },
  {
   "cell_type": "code",
   "execution_count": 22,
   "metadata": {},
   "outputs": [],
   "source": [
    "bingo_cards: list[BingoCard] = [\n",
    "    generate_bingo_card(\n",
    "        nrows=num_rows,\n",
    "        ncols=num_cols,\n",
    "        random_number_generator=number_generator,\n",
    "    )\n",
    "    for _ in range(num_simulations)\n",
    "]"
   ]
  },
  {
   "cell_type": "code",
   "execution_count": 23,
   "metadata": {},
   "outputs": [],
   "source": [
    "def draw_numbers(number_generator: SampleWithoutReplacement, num_to_draw: int)->list[int]:\n",
    "    return_list = [number_generator.generate() for _ in range(num_to_draw)]\n",
    "    number_generator.reset()\n",
    "    return return_list"
   ]
  },
  {
   "cell_type": "code",
   "execution_count": 24,
   "metadata": {},
   "outputs": [],
   "source": [
    "sampling_list = list(np.arange(min_value, max_value + 1))\n",
    "number_generator = SampleWithoutReplacement(sampling_list)\n",
    "drawn_values_list: list[list[int]] = [draw_numbers(number_generator, num_to_draw) for _ in range(num_simulations)]"
   ]
  },
  {
   "cell_type": "markdown",
   "metadata": {},
   "source": [
    "A bit different from the last problem, we'll check both patterns."
   ]
  },
  {
   "cell_type": "code",
   "execution_count": 25,
   "metadata": {},
   "outputs": [],
   "source": [
    "postage_pattern = create_postage_pattern(bingo_cards[0])\n",
    "corners_pattern = create_corners_pattern(bingo_cards[0])"
   ]
  },
  {
   "cell_type": "code",
   "execution_count": 26,
   "metadata": {},
   "outputs": [],
   "source": [
    "postage_bingo_games: list[BingoGame] = [\n",
    "    BingoGame(card, postage_pattern, drawn_values)\n",
    "    for card, drawn_values in zip(bingo_cards, drawn_values_list)\n",
    "]"
   ]
  },
  {
   "cell_type": "code",
   "execution_count": 27,
   "metadata": {},
   "outputs": [],
   "source": [
    "corners_bingo_games: list[BingoGame] = [\n",
    "    BingoGame(card, corners_pattern, drawn_values)\n",
    "    for card, drawn_values in zip(bingo_cards, drawn_values_list)\n",
    "]"
   ]
  },
  {
   "cell_type": "markdown",
   "metadata": {},
   "source": [
    "I introduce a data structure to make the code that follows a little bit more readable"
   ]
  },
  {
   "cell_type": "code",
   "execution_count": 28,
   "metadata": {},
   "outputs": [],
   "source": [
    "@dataclass\n",
    "class GamePairResult:\n",
    "    postage_game_result: bool\n",
    "    corners_game_result: bool"
   ]
  },
  {
   "cell_type": "markdown",
   "metadata": {},
   "source": [
    "To get our estimate, we will see what percentage of all the games where the corners bingo game lost has the postage game as a winner."
   ]
  },
  {
   "cell_type": "markdown",
   "metadata": {},
   "source": [
    "Let's get all the pairs of results"
   ]
  },
  {
   "cell_type": "code",
   "execution_count": 29,
   "metadata": {},
   "outputs": [],
   "source": [
    "game_pair_result_list: list[GamePairResult] = [\n",
    "    GamePairResult(postage_game.check_winner(), corners_game.check_winner())\n",
    "    for postage_game, corners_game in zip(postage_bingo_games, corners_bingo_games)\n",
    "]"
   ]
  },
  {
   "cell_type": "markdown",
   "metadata": {},
   "source": [
    "Get just those that are postage game losses"
   ]
  },
  {
   "cell_type": "code",
   "execution_count": 30,
   "metadata": {},
   "outputs": [],
   "source": [
    "postage_games_lost_list = [game_pair for game_pair in game_pair_result_list if not game_pair.postage_game_result]"
   ]
  },
  {
   "cell_type": "markdown",
   "metadata": {},
   "source": [
    "Of the postage losses, see when corners were won"
   ]
  },
  {
   "cell_type": "code",
   "execution_count": 31,
   "metadata": {},
   "outputs": [],
   "source": [
    "corners_won_in_postage_lost_list = [\n",
    "    game_pair for game_pair in postage_games_lost_list if game_pair.corners_game_result\n",
    "]"
   ]
  },
  {
   "cell_type": "markdown",
   "metadata": {},
   "source": [
    "Print out the percentage"
   ]
  },
  {
   "cell_type": "code",
   "execution_count": 32,
   "metadata": {},
   "outputs": [
    {
     "name": "stdout",
     "output_type": "stream",
     "text": [
      "2.19 postage stamp pattern games won out of all of the games where the corners pattern lost\n"
     ]
    }
   ],
   "source": [
    "print(\n",
    "    f\"{len(corners_won_in_postage_lost_list)/ len(postage_games_lost_list)*100:.2f} postage stamp pattern games won out of all of the games where the corners pattern lost\"\n",
    ")"
   ]
  },
  {
   "cell_type": "markdown",
   "metadata": {},
   "source": [
    "## Mathematics"
   ]
  },
  {
   "cell_type": "markdown",
   "metadata": {},
   "source": [
    "Let $E$ be the event that the four corners is hit, $F$ be the even that postage stamp is hit. Then by definition $$P(E|F^c) = \\frac{P(E \\cap F^c)}{P(F^c)} $$ where $F^c$ is the complement of F. One can rewrite $ E = (E \\cap F) \\cup (E \\cap F^c)$, and it can be easily be shown that $E \\cap F$ and $E \\cap F^c$ are disjoint events (these statements are easy to see with a Venn Diagram). Thus $$P(E) = P(E \\cap F) + P(E \\cap F^c).$$ With the intention of replacing the numerator in the conditional probability expression, we can solve this equation to get $$P(E \\cap F^c) = P(E) - P(E \\cap F).$$ Now the conditional probability can be rewritten as $$P(E|F^c) = \\frac{P(E \\cap F^c)}{P(F^c)} = \\frac{P(E) - P(E\\cap F)}{1-P(F)}$$"
   ]
  },
  {
   "cell_type": "markdown",
   "metadata": {},
   "source": [
    "and since $$P(E \\cap F)\\approx .001026,$$ which can be shown be a simple extension of the mathematics in the first problem, we have $$P(E|F^c) = \\frac{0.02255 - 0.001026}{1 - 0.02255} \\approx 0.02202$$ "
   ]
  },
  {
   "cell_type": "markdown",
   "metadata": {},
   "source": []
  }
 ],
 "metadata": {
  "kernelspec": {
   "display_name": ".venv",
   "language": "python",
   "name": "python3"
  },
  "language_info": {
   "codemirror_mode": {
    "name": "ipython",
    "version": 3
   },
   "file_extension": ".py",
   "mimetype": "text/x-python",
   "name": "python",
   "nbconvert_exporter": "python",
   "pygments_lexer": "ipython3",
   "version": "3.9.2"
  }
 },
 "nbformat": 4,
 "nbformat_minor": 2
}
